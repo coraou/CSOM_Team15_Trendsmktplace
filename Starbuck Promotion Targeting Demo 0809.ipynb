{
 "cells": [
  {
   "cell_type": "markdown",
   "metadata": {},
   "source": [
    "# Starbuck Promotion Campaign \n",
    "## Limit that promotion only to those that are most receptive to the promotion.\n",
    "data source:\n",
    "https://github.com/joshxinjie/Data_Scientist_Nanodegree/tree/master/starbucks_portfolio_exercise?source=post_page---------------------------"
   ]
  },
  {
   "cell_type": "code",
   "execution_count": 1,
   "metadata": {},
   "outputs": [],
   "source": [
    "import pandas as pd\n",
    "trainf = 'Starbucks_1.csv'\n",
    "predf = 'Starbucks_2.csv'\n",
    "df = pd.read_csv(trainf) # data for train and validate\n",
    "dfp = pd.read_csv(predf) # data for predict "
   ]
  },
  {
   "cell_type": "markdown",
   "metadata": {},
   "source": [
    "## we need the data ready,with Promotion and Purchase as binary variable\n",
    "After compeleting test promotion campaign, the next step is analyzing the result with Uplift model using Pylift, and then using the model to predict which customer you should target with the promotion.  \n",
    "\n",
    "each row is a customer records\n",
    "50% of the people received promotion\n",
    "and we kept track of if they purchsed or not"
   ]
  },
  {
   "cell_type": "code",
   "execution_count": 2,
   "metadata": {},
   "outputs": [
    {
     "data": {
      "text/plain": [
       "No     20902\n",
       "Yes    20748\n",
       "Name: Promotion, dtype: int64"
      ]
     },
     "execution_count": 2,
     "metadata": {},
     "output_type": "execute_result"
    }
   ],
   "source": [
    "df['Promotion'].value_counts() "
   ]
  },
  {
   "cell_type": "code",
   "execution_count": 3,
   "metadata": {},
   "outputs": [
    {
     "data": {
      "text/html": [
       "<div>\n",
       "<style scoped>\n",
       "    .dataframe tbody tr th:only-of-type {\n",
       "        vertical-align: middle;\n",
       "    }\n",
       "\n",
       "    .dataframe tbody tr th {\n",
       "        vertical-align: top;\n",
       "    }\n",
       "\n",
       "    .dataframe thead th {\n",
       "        text-align: right;\n",
       "    }\n",
       "</style>\n",
       "<table border=\"1\" class=\"dataframe\">\n",
       "  <thead>\n",
       "    <tr style=\"text-align: right;\">\n",
       "      <th></th>\n",
       "      <th>Promotion</th>\n",
       "      <th>purchase</th>\n",
       "      <th>V1</th>\n",
       "      <th>V2</th>\n",
       "      <th>V3</th>\n",
       "      <th>V4</th>\n",
       "      <th>V5</th>\n",
       "      <th>V6</th>\n",
       "      <th>V7</th>\n",
       "    </tr>\n",
       "  </thead>\n",
       "  <tbody>\n",
       "    <tr>\n",
       "      <th>0</th>\n",
       "      <td>0</td>\n",
       "      <td>0</td>\n",
       "      <td>1</td>\n",
       "      <td>41.376390</td>\n",
       "      <td>1.172517</td>\n",
       "      <td>1</td>\n",
       "      <td>1</td>\n",
       "      <td>2</td>\n",
       "      <td>2</td>\n",
       "    </tr>\n",
       "    <tr>\n",
       "      <th>1</th>\n",
       "      <td>1</td>\n",
       "      <td>0</td>\n",
       "      <td>1</td>\n",
       "      <td>25.163598</td>\n",
       "      <td>0.653050</td>\n",
       "      <td>2</td>\n",
       "      <td>2</td>\n",
       "      <td>2</td>\n",
       "      <td>2</td>\n",
       "    </tr>\n",
       "    <tr>\n",
       "      <th>2</th>\n",
       "      <td>1</td>\n",
       "      <td>0</td>\n",
       "      <td>1</td>\n",
       "      <td>26.553778</td>\n",
       "      <td>-1.597972</td>\n",
       "      <td>2</td>\n",
       "      <td>3</td>\n",
       "      <td>4</td>\n",
       "      <td>2</td>\n",
       "    </tr>\n",
       "    <tr>\n",
       "      <th>3</th>\n",
       "      <td>0</td>\n",
       "      <td>0</td>\n",
       "      <td>2</td>\n",
       "      <td>28.529691</td>\n",
       "      <td>-1.078506</td>\n",
       "      <td>2</td>\n",
       "      <td>3</td>\n",
       "      <td>2</td>\n",
       "      <td>2</td>\n",
       "    </tr>\n",
       "    <tr>\n",
       "      <th>4</th>\n",
       "      <td>0</td>\n",
       "      <td>0</td>\n",
       "      <td>2</td>\n",
       "      <td>32.378538</td>\n",
       "      <td>0.479895</td>\n",
       "      <td>2</td>\n",
       "      <td>2</td>\n",
       "      <td>1</td>\n",
       "      <td>2</td>\n",
       "    </tr>\n",
       "  </tbody>\n",
       "</table>\n",
       "</div>"
      ],
      "text/plain": [
       "   Promotion  purchase  V1         V2        V3  V4  V5  V6  V7\n",
       "0          0         0   1  41.376390  1.172517   1   1   2   2\n",
       "1          1         0   1  25.163598  0.653050   2   2   2   2\n",
       "2          1         0   1  26.553778 -1.597972   2   3   4   2\n",
       "3          0         0   2  28.529691 -1.078506   2   3   2   2\n",
       "4          0         0   2  32.378538  0.479895   2   2   1   2"
      ]
     },
     "execution_count": 3,
     "metadata": {},
     "output_type": "execute_result"
    }
   ],
   "source": [
    "df.loc[df['Promotion'] == 'Yes', 'Promotion'] = 1\n",
    "df.loc[df['Promotion'] == 'No', 'Promotion'] = 0\n",
    "del df['ID']\n",
    "df.head()"
   ]
  },
  {
   "cell_type": "markdown",
   "metadata": {},
   "source": [
    "## now let's train the model"
   ]
  },
  {
   "cell_type": "code",
   "execution_count": 4,
   "metadata": {},
   "outputs": [],
   "source": [
    "from pylift.generate_data import dgp\n",
    "import numpy as np, matplotlib as mpl, matplotlib.pyplot as plt, pandas as pd\n",
    "from pylift import TransformedOutcome"
   ]
  },
  {
   "cell_type": "code",
   "execution_count": 26,
   "metadata": {},
   "outputs": [],
   "source": [
    "up = TransformedOutcome(df, col_treatment='Promotion', col_outcome='purchase')"
   ]
  },
  {
   "cell_type": "code",
   "execution_count": 27,
   "metadata": {},
   "outputs": [
    {
     "name": "stdout",
     "output_type": "stream",
     "text": [
      "Fitting 3 folds for each of 20 candidates, totalling 60 fits\n",
      "[CV] colsample_bytree=0.9276875558147806, gamma=7.729605241847697, max_depth=9, min_child_weight=93, n_estimators=118, subsample=0.988096446857937 \n",
      "[21:42:00] WARNING: src/objective/regression_obj.cu:152: reg:linear is now deprecated in favor of reg:squarederror.\n"
     ]
    },
    {
     "name": "stderr",
     "output_type": "stream",
     "text": [
      "[Parallel(n_jobs=1)]: Using backend SequentialBackend with 1 concurrent workers.\n"
     ]
    },
    {
     "name": "stdout",
     "output_type": "stream",
     "text": [
      "[CV]  colsample_bytree=0.9276875558147806, gamma=7.729605241847697, max_depth=9, min_child_weight=93, n_estimators=118, subsample=0.988096446857937, score=-0.018484658659271767, total=   2.9s\n",
      "[CV] colsample_bytree=0.9276875558147806, gamma=7.729605241847697, max_depth=9, min_child_weight=93, n_estimators=118, subsample=0.988096446857937 \n",
      "[21:42:03] WARNING: src/objective/regression_obj.cu:152: reg:linear is now deprecated in favor of reg:squarederror.\n"
     ]
    },
    {
     "name": "stderr",
     "output_type": "stream",
     "text": [
      "[Parallel(n_jobs=1)]: Done   1 out of   1 | elapsed:    3.2s remaining:    0.0s\n"
     ]
    },
    {
     "name": "stdout",
     "output_type": "stream",
     "text": [
      "[CV]  colsample_bytree=0.9276875558147806, gamma=7.729605241847697, max_depth=9, min_child_weight=93, n_estimators=118, subsample=0.988096446857937, score=-0.0039053664151981215, total=   2.9s\n",
      "[CV] colsample_bytree=0.9276875558147806, gamma=7.729605241847697, max_depth=9, min_child_weight=93, n_estimators=118, subsample=0.988096446857937 \n",
      "[21:42:06] WARNING: src/objective/regression_obj.cu:152: reg:linear is now deprecated in favor of reg:squarederror.\n"
     ]
    },
    {
     "name": "stderr",
     "output_type": "stream",
     "text": [
      "[Parallel(n_jobs=1)]: Done   2 out of   2 | elapsed:    6.2s remaining:    0.0s\n"
     ]
    },
    {
     "name": "stdout",
     "output_type": "stream",
     "text": [
      "[CV]  colsample_bytree=0.9276875558147806, gamma=7.729605241847697, max_depth=9, min_child_weight=93, n_estimators=118, subsample=0.988096446857937, score=0.04550110245316326, total=   3.0s\n",
      "[CV] colsample_bytree=0.9685316335826992, gamma=2.378041390625639, max_depth=11, min_child_weight=233, n_estimators=117, subsample=0.4812829098421847 \n",
      "[21:42:09] WARNING: src/objective/regression_obj.cu:152: reg:linear is now deprecated in favor of reg:squarederror.\n",
      "[CV]  colsample_bytree=0.9685316335826992, gamma=2.378041390625639, max_depth=11, min_child_weight=233, n_estimators=117, subsample=0.4812829098421847, score=-0.018484658659271767, total=   2.2s\n",
      "[CV] colsample_bytree=0.9685316335826992, gamma=2.378041390625639, max_depth=11, min_child_weight=233, n_estimators=117, subsample=0.4812829098421847 \n",
      "[21:42:12] WARNING: src/objective/regression_obj.cu:152: reg:linear is now deprecated in favor of reg:squarederror.\n",
      "[CV]  colsample_bytree=0.9685316335826992, gamma=2.378041390625639, max_depth=11, min_child_weight=233, n_estimators=117, subsample=0.4812829098421847, score=-0.0039053664151981215, total=   2.3s\n",
      "[CV] colsample_bytree=0.9685316335826992, gamma=2.378041390625639, max_depth=11, min_child_weight=233, n_estimators=117, subsample=0.4812829098421847 \n",
      "[21:42:14] WARNING: src/objective/regression_obj.cu:152: reg:linear is now deprecated in favor of reg:squarederror.\n",
      "[CV]  colsample_bytree=0.9685316335826992, gamma=2.378041390625639, max_depth=11, min_child_weight=233, n_estimators=117, subsample=0.4812829098421847, score=0.04550110245316326, total=   2.4s\n",
      "[CV] colsample_bytree=0.5485499967124217, gamma=4.961379065668541, max_depth=20, min_child_weight=92, n_estimators=49, subsample=0.9869841790029772 \n",
      "[21:42:17] WARNING: src/objective/regression_obj.cu:152: reg:linear is now deprecated in favor of reg:squarederror.\n",
      "[CV]  colsample_bytree=0.5485499967124217, gamma=4.961379065668541, max_depth=20, min_child_weight=92, n_estimators=49, subsample=0.9869841790029772, score=-0.018484658659271767, total=   1.0s\n",
      "[CV] colsample_bytree=0.5485499967124217, gamma=4.961379065668541, max_depth=20, min_child_weight=92, n_estimators=49, subsample=0.9869841790029772 \n",
      "[21:42:18] WARNING: src/objective/regression_obj.cu:152: reg:linear is now deprecated in favor of reg:squarederror.\n",
      "[CV]  colsample_bytree=0.5485499967124217, gamma=4.961379065668541, max_depth=20, min_child_weight=92, n_estimators=49, subsample=0.9869841790029772, score=-0.0039053664151981215, total=   1.0s\n",
      "[CV] colsample_bytree=0.5485499967124217, gamma=4.961379065668541, max_depth=20, min_child_weight=92, n_estimators=49, subsample=0.9869841790029772 \n",
      "[21:42:19] WARNING: src/objective/regression_obj.cu:152: reg:linear is now deprecated in favor of reg:squarederror.\n",
      "[CV]  colsample_bytree=0.5485499967124217, gamma=4.961379065668541, max_depth=20, min_child_weight=92, n_estimators=49, subsample=0.9869841790029772, score=0.04550110245316326, total=   1.0s\n",
      "[CV] colsample_bytree=0.9844584246011168, gamma=9.515622150841107, max_depth=5, min_child_weight=338, n_estimators=403, subsample=0.6860933937332494 \n",
      "[21:42:20] WARNING: src/objective/regression_obj.cu:152: reg:linear is now deprecated in favor of reg:squarederror.\n",
      "[CV]  colsample_bytree=0.9844584246011168, gamma=9.515622150841107, max_depth=5, min_child_weight=338, n_estimators=403, subsample=0.6860933937332494, score=-0.018484658659271767, total=   5.4s\n",
      "[CV] colsample_bytree=0.9844584246011168, gamma=9.515622150841107, max_depth=5, min_child_weight=338, n_estimators=403, subsample=0.6860933937332494 \n",
      "[21:42:26] WARNING: src/objective/regression_obj.cu:152: reg:linear is now deprecated in favor of reg:squarederror.\n",
      "[CV]  colsample_bytree=0.9844584246011168, gamma=9.515622150841107, max_depth=5, min_child_weight=338, n_estimators=403, subsample=0.6860933937332494, score=-0.0039053664151981215, total=   5.3s\n",
      "[CV] colsample_bytree=0.9844584246011168, gamma=9.515622150841107, max_depth=5, min_child_weight=338, n_estimators=403, subsample=0.6860933937332494 \n",
      "[21:42:31] WARNING: src/objective/regression_obj.cu:152: reg:linear is now deprecated in favor of reg:squarederror.\n",
      "[CV]  colsample_bytree=0.9844584246011168, gamma=9.515622150841107, max_depth=5, min_child_weight=338, n_estimators=403, subsample=0.6860933937332494, score=0.04550110245316326, total=   5.2s\n",
      "[CV] colsample_bytree=0.3758200173452799, gamma=1.5496221651460784, max_depth=7, min_child_weight=418, n_estimators=211, subsample=0.42095665453298664 \n",
      "[21:42:36] WARNING: src/objective/regression_obj.cu:152: reg:linear is now deprecated in favor of reg:squarederror.\n",
      "[CV]  colsample_bytree=0.3758200173452799, gamma=1.5496221651460784, max_depth=7, min_child_weight=418, n_estimators=211, subsample=0.42095665453298664, score=-0.018484658659271767, total=   1.7s\n",
      "[CV] colsample_bytree=0.3758200173452799, gamma=1.5496221651460784, max_depth=7, min_child_weight=418, n_estimators=211, subsample=0.42095665453298664 \n",
      "[21:42:38] WARNING: src/objective/regression_obj.cu:152: reg:linear is now deprecated in favor of reg:squarederror.\n",
      "[CV]  colsample_bytree=0.3758200173452799, gamma=1.5496221651460784, max_depth=7, min_child_weight=418, n_estimators=211, subsample=0.42095665453298664, score=-0.0039053664151981215, total=   1.7s\n",
      "[CV] colsample_bytree=0.3758200173452799, gamma=1.5496221651460784, max_depth=7, min_child_weight=418, n_estimators=211, subsample=0.42095665453298664 \n",
      "[21:42:40] WARNING: src/objective/regression_obj.cu:152: reg:linear is now deprecated in favor of reg:squarederror.\n",
      "[CV]  colsample_bytree=0.3758200173452799, gamma=1.5496221651460784, max_depth=7, min_child_weight=418, n_estimators=211, subsample=0.42095665453298664, score=0.04550110245316326, total=   1.7s\n",
      "[CV] colsample_bytree=0.7491251704398273, gamma=7.857300962347873, max_depth=10, min_child_weight=481, n_estimators=71, subsample=0.9512268262134593 \n",
      "[21:42:42] WARNING: src/objective/regression_obj.cu:152: reg:linear is now deprecated in favor of reg:squarederror.\n",
      "[CV]  colsample_bytree=0.7491251704398273, gamma=7.857300962347873, max_depth=10, min_child_weight=481, n_estimators=71, subsample=0.9512268262134593, score=-0.018484658659271767, total=   1.2s\n",
      "[CV] colsample_bytree=0.7491251704398273, gamma=7.857300962347873, max_depth=10, min_child_weight=481, n_estimators=71, subsample=0.9512268262134593 \n",
      "[21:42:43] WARNING: src/objective/regression_obj.cu:152: reg:linear is now deprecated in favor of reg:squarederror.\n",
      "[CV]  colsample_bytree=0.7491251704398273, gamma=7.857300962347873, max_depth=10, min_child_weight=481, n_estimators=71, subsample=0.9512268262134593, score=-0.0039053664151981215, total=   1.2s\n",
      "[CV] colsample_bytree=0.7491251704398273, gamma=7.857300962347873, max_depth=10, min_child_weight=481, n_estimators=71, subsample=0.9512268262134593 \n",
      "[21:42:45] WARNING: src/objective/regression_obj.cu:152: reg:linear is now deprecated in favor of reg:squarederror.\n",
      "[CV]  colsample_bytree=0.7491251704398273, gamma=7.857300962347873, max_depth=10, min_child_weight=481, n_estimators=71, subsample=0.9512268262134593, score=0.04550110245316326, total=   1.2s\n",
      "[CV] colsample_bytree=0.35230084613082235, gamma=7.554922864847971, max_depth=16, min_child_weight=330, n_estimators=315, subsample=0.5373758041073964 \n",
      "[21:42:46] WARNING: src/objective/regression_obj.cu:152: reg:linear is now deprecated in favor of reg:squarederror.\n",
      "[CV]  colsample_bytree=0.35230084613082235, gamma=7.554922864847971, max_depth=16, min_child_weight=330, n_estimators=315, subsample=0.5373758041073964, score=-0.018484658659271767, total=   2.9s\n",
      "[CV] colsample_bytree=0.35230084613082235, gamma=7.554922864847971, max_depth=16, min_child_weight=330, n_estimators=315, subsample=0.5373758041073964 \n",
      "[21:42:49] WARNING: src/objective/regression_obj.cu:152: reg:linear is now deprecated in favor of reg:squarederror.\n",
      "[CV]  colsample_bytree=0.35230084613082235, gamma=7.554922864847971, max_depth=16, min_child_weight=330, n_estimators=315, subsample=0.5373758041073964, score=-0.0039053664151981215, total=   3.0s\n",
      "[CV] colsample_bytree=0.35230084613082235, gamma=7.554922864847971, max_depth=16, min_child_weight=330, n_estimators=315, subsample=0.5373758041073964 \n",
      "[21:42:53] WARNING: src/objective/regression_obj.cu:152: reg:linear is now deprecated in favor of reg:squarederror.\n"
     ]
    },
    {
     "name": "stdout",
     "output_type": "stream",
     "text": [
      "[CV]  colsample_bytree=0.35230084613082235, gamma=7.554922864847971, max_depth=16, min_child_weight=330, n_estimators=315, subsample=0.5373758041073964, score=0.04550110245316326, total=   3.0s\n",
      "[CV] colsample_bytree=0.9176342878646893, gamma=1.7149259632572134, max_depth=11, min_child_weight=74, n_estimators=240, subsample=0.9406444325716405 \n",
      "[21:42:56] WARNING: src/objective/regression_obj.cu:152: reg:linear is now deprecated in favor of reg:squarederror.\n",
      "[CV]  colsample_bytree=0.9176342878646893, gamma=1.7149259632572134, max_depth=11, min_child_weight=74, n_estimators=240, subsample=0.9406444325716405, score=0.16969816812005203, total=   7.0s\n",
      "[CV] colsample_bytree=0.9176342878646893, gamma=1.7149259632572134, max_depth=11, min_child_weight=74, n_estimators=240, subsample=0.9406444325716405 \n",
      "[21:43:03] WARNING: src/objective/regression_obj.cu:152: reg:linear is now deprecated in favor of reg:squarederror.\n",
      "[CV]  colsample_bytree=0.9176342878646893, gamma=1.7149259632572134, max_depth=11, min_child_weight=74, n_estimators=240, subsample=0.9406444325716405, score=0.08383330907698143, total=   6.7s\n",
      "[CV] colsample_bytree=0.9176342878646893, gamma=1.7149259632572134, max_depth=11, min_child_weight=74, n_estimators=240, subsample=0.9406444325716405 \n",
      "[21:43:10] WARNING: src/objective/regression_obj.cu:152: reg:linear is now deprecated in favor of reg:squarederror.\n",
      "[CV]  colsample_bytree=0.9176342878646893, gamma=1.7149259632572134, max_depth=11, min_child_weight=74, n_estimators=240, subsample=0.9406444325716405, score=0.04550110245316326, total=   6.4s\n",
      "[CV] colsample_bytree=0.9672627485190577, gamma=9.914423151279571, max_depth=14, min_child_weight=308, n_estimators=445, subsample=0.7785929935560054 \n",
      "[21:43:16] WARNING: src/objective/regression_obj.cu:152: reg:linear is now deprecated in favor of reg:squarederror.\n",
      "[CV]  colsample_bytree=0.9672627485190577, gamma=9.914423151279571, max_depth=14, min_child_weight=308, n_estimators=445, subsample=0.7785929935560054, score=-0.018484658659271767, total=   8.8s\n",
      "[CV] colsample_bytree=0.9672627485190577, gamma=9.914423151279571, max_depth=14, min_child_weight=308, n_estimators=445, subsample=0.7785929935560054 \n",
      "[21:43:25] WARNING: src/objective/regression_obj.cu:152: reg:linear is now deprecated in favor of reg:squarederror.\n",
      "[CV]  colsample_bytree=0.9672627485190577, gamma=9.914423151279571, max_depth=14, min_child_weight=308, n_estimators=445, subsample=0.7785929935560054, score=-0.0039053664151981215, total=   9.0s\n",
      "[CV] colsample_bytree=0.9672627485190577, gamma=9.914423151279571, max_depth=14, min_child_weight=308, n_estimators=445, subsample=0.7785929935560054 \n",
      "[21:43:35] WARNING: src/objective/regression_obj.cu:152: reg:linear is now deprecated in favor of reg:squarederror.\n",
      "[CV]  colsample_bytree=0.9672627485190577, gamma=9.914423151279571, max_depth=14, min_child_weight=308, n_estimators=445, subsample=0.7785929935560054, score=0.04550110245316326, total=   9.1s\n",
      "[CV] colsample_bytree=0.8095988357637689, gamma=5.004546425536821, max_depth=7, min_child_weight=174, n_estimators=27, subsample=0.31091225776631537 \n",
      "[21:43:44] WARNING: src/objective/regression_obj.cu:152: reg:linear is now deprecated in favor of reg:squarederror.\n",
      "[CV]  colsample_bytree=0.8095988357637689, gamma=5.004546425536821, max_depth=7, min_child_weight=174, n_estimators=27, subsample=0.31091225776631537, score=-0.018484658659271767, total=   0.4s\n",
      "[CV] colsample_bytree=0.8095988357637689, gamma=5.004546425536821, max_depth=7, min_child_weight=174, n_estimators=27, subsample=0.31091225776631537 \n",
      "[21:43:44] WARNING: src/objective/regression_obj.cu:152: reg:linear is now deprecated in favor of reg:squarederror.\n",
      "[CV]  colsample_bytree=0.8095988357637689, gamma=5.004546425536821, max_depth=7, min_child_weight=174, n_estimators=27, subsample=0.31091225776631537, score=-0.0039053664151981215, total=   0.4s\n",
      "[CV] colsample_bytree=0.8095988357637689, gamma=5.004546425536821, max_depth=7, min_child_weight=174, n_estimators=27, subsample=0.31091225776631537 \n",
      "[21:43:45] WARNING: src/objective/regression_obj.cu:152: reg:linear is now deprecated in favor of reg:squarederror.\n",
      "[CV]  colsample_bytree=0.8095988357637689, gamma=5.004546425536821, max_depth=7, min_child_weight=174, n_estimators=27, subsample=0.31091225776631537, score=0.04550110245316326, total=   0.4s\n",
      "[CV] colsample_bytree=0.5798856649744852, gamma=7.046332223984394, max_depth=7, min_child_weight=216, n_estimators=271, subsample=0.3864236101357148 \n",
      "[21:43:45] WARNING: src/objective/regression_obj.cu:152: reg:linear is now deprecated in favor of reg:squarederror.\n",
      "[CV]  colsample_bytree=0.5798856649744852, gamma=7.046332223984394, max_depth=7, min_child_weight=216, n_estimators=271, subsample=0.3864236101357148, score=-0.018484658659271767, total=   3.3s\n",
      "[CV] colsample_bytree=0.5798856649744852, gamma=7.046332223984394, max_depth=7, min_child_weight=216, n_estimators=271, subsample=0.3864236101357148 \n",
      "[21:43:49] WARNING: src/objective/regression_obj.cu:152: reg:linear is now deprecated in favor of reg:squarederror.\n",
      "[CV]  colsample_bytree=0.5798856649744852, gamma=7.046332223984394, max_depth=7, min_child_weight=216, n_estimators=271, subsample=0.3864236101357148, score=-0.0039053664151981215, total=   3.3s\n",
      "[CV] colsample_bytree=0.5798856649744852, gamma=7.046332223984394, max_depth=7, min_child_weight=216, n_estimators=271, subsample=0.3864236101357148 \n",
      "[21:43:52] WARNING: src/objective/regression_obj.cu:152: reg:linear is now deprecated in favor of reg:squarederror.\n",
      "[CV]  colsample_bytree=0.5798856649744852, gamma=7.046332223984394, max_depth=7, min_child_weight=216, n_estimators=271, subsample=0.3864236101357148, score=0.04550110245316326, total=   3.3s\n",
      "[CV] colsample_bytree=0.7828438983628104, gamma=7.736469240660534, max_depth=19, min_child_weight=434, n_estimators=126, subsample=0.3415587689442085 \n",
      "[21:43:56] WARNING: src/objective/regression_obj.cu:152: reg:linear is now deprecated in favor of reg:squarederror.\n",
      "[CV]  colsample_bytree=0.7828438983628104, gamma=7.736469240660534, max_depth=19, min_child_weight=434, n_estimators=126, subsample=0.3415587689442085, score=-0.018484658659271767, total=   1.5s\n",
      "[CV] colsample_bytree=0.7828438983628104, gamma=7.736469240660534, max_depth=19, min_child_weight=434, n_estimators=126, subsample=0.3415587689442085 \n",
      "[21:43:57] WARNING: src/objective/regression_obj.cu:152: reg:linear is now deprecated in favor of reg:squarederror.\n",
      "[CV]  colsample_bytree=0.7828438983628104, gamma=7.736469240660534, max_depth=19, min_child_weight=434, n_estimators=126, subsample=0.3415587689442085, score=-0.0039053664151981215, total=   1.5s\n",
      "[CV] colsample_bytree=0.7828438983628104, gamma=7.736469240660534, max_depth=19, min_child_weight=434, n_estimators=126, subsample=0.3415587689442085 \n",
      "[21:43:59] WARNING: src/objective/regression_obj.cu:152: reg:linear is now deprecated in favor of reg:squarederror.\n",
      "[CV]  colsample_bytree=0.7828438983628104, gamma=7.736469240660534, max_depth=19, min_child_weight=434, n_estimators=126, subsample=0.3415587689442085, score=0.04550110245316326, total=   1.5s\n",
      "[CV] colsample_bytree=0.8897103475036827, gamma=3.0225505005653277, max_depth=7, min_child_weight=483, n_estimators=325, subsample=0.33674662114740833 \n",
      "[21:44:01] WARNING: src/objective/regression_obj.cu:152: reg:linear is now deprecated in favor of reg:squarederror.\n",
      "[CV]  colsample_bytree=0.8897103475036827, gamma=3.0225505005653277, max_depth=7, min_child_weight=483, n_estimators=325, subsample=0.33674662114740833, score=-0.018484658659271767, total=   3.8s\n",
      "[CV] colsample_bytree=0.8897103475036827, gamma=3.0225505005653277, max_depth=7, min_child_weight=483, n_estimators=325, subsample=0.33674662114740833 \n",
      "[21:44:05] WARNING: src/objective/regression_obj.cu:152: reg:linear is now deprecated in favor of reg:squarederror.\n",
      "[CV]  colsample_bytree=0.8897103475036827, gamma=3.0225505005653277, max_depth=7, min_child_weight=483, n_estimators=325, subsample=0.33674662114740833, score=-0.0039053664151981215, total=   3.8s\n",
      "[CV] colsample_bytree=0.8897103475036827, gamma=3.0225505005653277, max_depth=7, min_child_weight=483, n_estimators=325, subsample=0.33674662114740833 \n",
      "[21:44:09] WARNING: src/objective/regression_obj.cu:152: reg:linear is now deprecated in favor of reg:squarederror.\n"
     ]
    },
    {
     "name": "stdout",
     "output_type": "stream",
     "text": [
      "[CV]  colsample_bytree=0.8897103475036827, gamma=3.0225505005653277, max_depth=7, min_child_weight=483, n_estimators=325, subsample=0.33674662114740833, score=0.04550110245316326, total=   3.8s\n",
      "[CV] colsample_bytree=0.5969482215246772, gamma=0.37408669915787285, max_depth=6, min_child_weight=166, n_estimators=228, subsample=0.8081592056982945 \n",
      "[21:44:13] WARNING: src/objective/regression_obj.cu:152: reg:linear is now deprecated in favor of reg:squarederror.\n",
      "[CV]  colsample_bytree=0.5969482215246772, gamma=0.37408669915787285, max_depth=6, min_child_weight=166, n_estimators=228, subsample=0.8081592056982945, score=0.16543484750702223, total=   2.7s\n",
      "[CV] colsample_bytree=0.5969482215246772, gamma=0.37408669915787285, max_depth=6, min_child_weight=166, n_estimators=228, subsample=0.8081592056982945 \n",
      "[21:44:15] WARNING: src/objective/regression_obj.cu:152: reg:linear is now deprecated in favor of reg:squarederror.\n",
      "[CV]  colsample_bytree=0.5969482215246772, gamma=0.37408669915787285, max_depth=6, min_child_weight=166, n_estimators=228, subsample=0.8081592056982945, score=0.2355401840542912, total=   2.7s\n",
      "[CV] colsample_bytree=0.5969482215246772, gamma=0.37408669915787285, max_depth=6, min_child_weight=166, n_estimators=228, subsample=0.8081592056982945 \n",
      "[21:44:18] WARNING: src/objective/regression_obj.cu:152: reg:linear is now deprecated in favor of reg:squarederror.\n",
      "[CV]  colsample_bytree=0.5969482215246772, gamma=0.37408669915787285, max_depth=6, min_child_weight=166, n_estimators=228, subsample=0.8081592056982945, score=0.14011887788625893, total=   2.7s\n",
      "[CV] colsample_bytree=0.36072027938865936, gamma=0.2814375581917561, max_depth=16, min_child_weight=406, n_estimators=436, subsample=0.38972133227657246 \n",
      "[21:44:21] WARNING: src/objective/regression_obj.cu:152: reg:linear is now deprecated in favor of reg:squarederror.\n",
      "[CV]  colsample_bytree=0.36072027938865936, gamma=0.2814375581917561, max_depth=16, min_child_weight=406, n_estimators=436, subsample=0.38972133227657246, score=0.17318165642271896, total=   3.7s\n",
      "[CV] colsample_bytree=0.36072027938865936, gamma=0.2814375581917561, max_depth=16, min_child_weight=406, n_estimators=436, subsample=0.38972133227657246 \n",
      "[21:44:25] WARNING: src/objective/regression_obj.cu:152: reg:linear is now deprecated in favor of reg:squarederror.\n",
      "[CV]  colsample_bytree=0.36072027938865936, gamma=0.2814375581917561, max_depth=16, min_child_weight=406, n_estimators=436, subsample=0.38972133227657246, score=0.1894922518471286, total=   3.6s\n",
      "[CV] colsample_bytree=0.36072027938865936, gamma=0.2814375581917561, max_depth=16, min_child_weight=406, n_estimators=436, subsample=0.38972133227657246 \n",
      "[21:44:29] WARNING: src/objective/regression_obj.cu:152: reg:linear is now deprecated in favor of reg:squarederror.\n",
      "[CV]  colsample_bytree=0.36072027938865936, gamma=0.2814375581917561, max_depth=16, min_child_weight=406, n_estimators=436, subsample=0.38972133227657246, score=0.1856424141142149, total=   3.6s\n",
      "[CV] colsample_bytree=0.4035684764082919, gamma=3.6371750361211297, max_depth=8, min_child_weight=469, n_estimators=384, subsample=0.7480509218159714 \n",
      "[21:44:33] WARNING: src/objective/regression_obj.cu:152: reg:linear is now deprecated in favor of reg:squarederror.\n",
      "[CV]  colsample_bytree=0.4035684764082919, gamma=3.6371750361211297, max_depth=8, min_child_weight=469, n_estimators=384, subsample=0.7480509218159714, score=-0.018484658659271767, total=   3.4s\n",
      "[CV] colsample_bytree=0.4035684764082919, gamma=3.6371750361211297, max_depth=8, min_child_weight=469, n_estimators=384, subsample=0.7480509218159714 \n",
      "[21:44:37] WARNING: src/objective/regression_obj.cu:152: reg:linear is now deprecated in favor of reg:squarederror.\n",
      "[CV]  colsample_bytree=0.4035684764082919, gamma=3.6371750361211297, max_depth=8, min_child_weight=469, n_estimators=384, subsample=0.7480509218159714, score=-0.0039053664151981215, total=   3.4s\n",
      "[CV] colsample_bytree=0.4035684764082919, gamma=3.6371750361211297, max_depth=8, min_child_weight=469, n_estimators=384, subsample=0.7480509218159714 \n",
      "[21:44:40] WARNING: src/objective/regression_obj.cu:152: reg:linear is now deprecated in favor of reg:squarederror.\n",
      "[CV]  colsample_bytree=0.4035684764082919, gamma=3.6371750361211297, max_depth=8, min_child_weight=469, n_estimators=384, subsample=0.7480509218159714, score=0.04550110245316326, total=   3.3s\n",
      "[CV] colsample_bytree=0.8768627592840621, gamma=5.164057976209907, max_depth=4, min_child_weight=164, n_estimators=407, subsample=0.8551986058139285 \n",
      "[21:44:44] WARNING: src/objective/regression_obj.cu:152: reg:linear is now deprecated in favor of reg:squarederror.\n",
      "[CV]  colsample_bytree=0.8768627592840621, gamma=5.164057976209907, max_depth=4, min_child_weight=164, n_estimators=407, subsample=0.8551986058139285, score=-0.018484658659271767, total=   4.6s\n",
      "[CV] colsample_bytree=0.8768627592840621, gamma=5.164057976209907, max_depth=4, min_child_weight=164, n_estimators=407, subsample=0.8551986058139285 \n",
      "[21:44:48] WARNING: src/objective/regression_obj.cu:152: reg:linear is now deprecated in favor of reg:squarederror.\n",
      "[CV]  colsample_bytree=0.8768627592840621, gamma=5.164057976209907, max_depth=4, min_child_weight=164, n_estimators=407, subsample=0.8551986058139285, score=-0.0039053664151981215, total=   4.6s\n",
      "[CV] colsample_bytree=0.8768627592840621, gamma=5.164057976209907, max_depth=4, min_child_weight=164, n_estimators=407, subsample=0.8551986058139285 \n",
      "[21:44:53] WARNING: src/objective/regression_obj.cu:152: reg:linear is now deprecated in favor of reg:squarederror.\n",
      "[CV]  colsample_bytree=0.8768627592840621, gamma=5.164057976209907, max_depth=4, min_child_weight=164, n_estimators=407, subsample=0.8551986058139285, score=0.04550110245316326, total=   4.5s\n",
      "[CV] colsample_bytree=0.39680442589728665, gamma=3.8961246686590076, max_depth=18, min_child_weight=155, n_estimators=76, subsample=0.6028970647072045 \n",
      "[21:44:58] WARNING: src/objective/regression_obj.cu:152: reg:linear is now deprecated in favor of reg:squarederror.\n",
      "[CV]  colsample_bytree=0.39680442589728665, gamma=3.8961246686590076, max_depth=18, min_child_weight=155, n_estimators=76, subsample=0.6028970647072045, score=-0.018484658659271767, total=   0.8s\n",
      "[CV] colsample_bytree=0.39680442589728665, gamma=3.8961246686590076, max_depth=18, min_child_weight=155, n_estimators=76, subsample=0.6028970647072045 \n",
      "[21:44:59] WARNING: src/objective/regression_obj.cu:152: reg:linear is now deprecated in favor of reg:squarederror.\n",
      "[CV]  colsample_bytree=0.39680442589728665, gamma=3.8961246686590076, max_depth=18, min_child_weight=155, n_estimators=76, subsample=0.6028970647072045, score=-0.0039053664151981215, total=   0.8s\n",
      "[CV] colsample_bytree=0.39680442589728665, gamma=3.8961246686590076, max_depth=18, min_child_weight=155, n_estimators=76, subsample=0.6028970647072045 \n",
      "[21:45:00] WARNING: src/objective/regression_obj.cu:152: reg:linear is now deprecated in favor of reg:squarederror.\n",
      "[CV]  colsample_bytree=0.39680442589728665, gamma=3.8961246686590076, max_depth=18, min_child_weight=155, n_estimators=76, subsample=0.6028970647072045, score=0.04550110245316326, total=   0.8s\n",
      "[CV] colsample_bytree=0.5002052109605987, gamma=5.006888216901041, max_depth=2, min_child_weight=356, n_estimators=429, subsample=0.6511786357518112 \n",
      "[21:45:01] WARNING: src/objective/regression_obj.cu:152: reg:linear is now deprecated in favor of reg:squarederror.\n",
      "[CV]  colsample_bytree=0.5002052109605987, gamma=5.006888216901041, max_depth=2, min_child_weight=356, n_estimators=429, subsample=0.6511786357518112, score=-0.018484658659271767, total=   2.5s\n",
      "[CV] colsample_bytree=0.5002052109605987, gamma=5.006888216901041, max_depth=2, min_child_weight=356, n_estimators=429, subsample=0.6511786357518112 \n",
      "[21:45:03] WARNING: src/objective/regression_obj.cu:152: reg:linear is now deprecated in favor of reg:squarederror.\n",
      "[CV]  colsample_bytree=0.5002052109605987, gamma=5.006888216901041, max_depth=2, min_child_weight=356, n_estimators=429, subsample=0.6511786357518112, score=-0.0039053664151981215, total=   2.6s\n",
      "[CV] colsample_bytree=0.5002052109605987, gamma=5.006888216901041, max_depth=2, min_child_weight=356, n_estimators=429, subsample=0.6511786357518112 \n",
      "[21:45:06] WARNING: src/objective/regression_obj.cu:152: reg:linear is now deprecated in favor of reg:squarederror.\n"
     ]
    },
    {
     "name": "stdout",
     "output_type": "stream",
     "text": [
      "[CV]  colsample_bytree=0.5002052109605987, gamma=5.006888216901041, max_depth=2, min_child_weight=356, n_estimators=429, subsample=0.6511786357518112, score=0.04550110245316326, total=   2.5s\n",
      "[CV] colsample_bytree=0.8167070737242113, gamma=0.18562476424159424, max_depth=16, min_child_weight=90, n_estimators=446, subsample=0.8456987238088998 \n",
      "[21:45:09] WARNING: src/objective/regression_obj.cu:152: reg:linear is now deprecated in favor of reg:squarederror.\n",
      "[CV]  colsample_bytree=0.8167070737242113, gamma=0.18562476424159424, max_depth=16, min_child_weight=90, n_estimators=446, subsample=0.8456987238088998, score=0.050499845848716064, total=  13.1s\n",
      "[CV] colsample_bytree=0.8167070737242113, gamma=0.18562476424159424, max_depth=16, min_child_weight=90, n_estimators=446, subsample=0.8456987238088998 \n",
      "[21:45:23] WARNING: src/objective/regression_obj.cu:152: reg:linear is now deprecated in favor of reg:squarederror.\n",
      "[CV]  colsample_bytree=0.8167070737242113, gamma=0.18562476424159424, max_depth=16, min_child_weight=90, n_estimators=446, subsample=0.8456987238088998, score=0.10476802541981421, total=  13.4s\n",
      "[CV] colsample_bytree=0.8167070737242113, gamma=0.18562476424159424, max_depth=16, min_child_weight=90, n_estimators=446, subsample=0.8456987238088998 \n",
      "[21:45:37] WARNING: src/objective/regression_obj.cu:152: reg:linear is now deprecated in favor of reg:squarederror.\n",
      "[CV]  colsample_bytree=0.8167070737242113, gamma=0.18562476424159424, max_depth=16, min_child_weight=90, n_estimators=446, subsample=0.8456987238088998, score=0.013088507873039364, total=  13.0s\n"
     ]
    },
    {
     "name": "stderr",
     "output_type": "stream",
     "text": [
      "[Parallel(n_jobs=1)]: Done  60 out of  60 | elapsed:  3.9min finished\n"
     ]
    },
    {
     "data": {
      "text/plain": [
       "RandomizedSearchCV(cv='warn', error_score='raise-deprecating',\n",
       "          estimator=XGBRegressor(base_score=0.5, booster='gbtree', colsample_bylevel=1,\n",
       "       colsample_bynode=1, colsample_bytree=1, gamma=0,\n",
       "       importance_type='gain', learning_rate=0.1, max_delta_step=0,\n",
       "       max_depth=3, min_child_weight=1, missing=None, n_estimators=100,\n",
       "       n_jobs=1, nthread=1, objective='reg:linear', random_state=0,\n",
       "       reg_alpha=0, reg_lambda=1, scale_pos_weight=1, seed=None,\n",
       "       silent=None, subsample=1, verbosity=1),\n",
       "          fit_params=None, iid='warn', n_iter=20, n_jobs=None,\n",
       "          param_distributions={'n_estimators': range(10, 500), 'max_depth': [2, 3, 4, 5, 6, 7, 8, 9, 10, 11, 12, 13, 14, 15, 16, 17, 18, 19, 20], 'min_child_weight': [1, 2, 3, 4, 5, 6, 7, 8, 9, 10, 11, 12, 13, 14, 15, 16, 17, 18, 19, 20, 21, 22, 23, 24, 25, 26, 27, 28, 29, 30, 31, 32, 33, 34, 35, 36, 37, 38, ...2b633240>, 'colsample_bytree': <scipy.stats._distn_infrastructure.rv_frozen object at 0x1a2b4164a8>},\n",
       "          pre_dispatch='2*n_jobs', random_state=None, refit=False,\n",
       "          return_train_score='warn', scoring=make_scorer(_cgains_score),\n",
       "          verbose=3)"
      ]
     },
     "execution_count": 27,
     "metadata": {},
     "output_type": "execute_result"
    }
   ],
   "source": [
    "up.randomized_search(n_iter=20) # automated hyperparameter tunning !"
   ]
  },
  {
   "cell_type": "code",
   "execution_count": 28,
   "metadata": {},
   "outputs": [
    {
     "name": "stdout",
     "output_type": "stream",
     "text": [
      "[21:45:51] WARNING: src/objective/regression_obj.cu:152: reg:linear is now deprecated in favor of reg:squarederror.\n"
     ]
    }
   ],
   "source": [
    "up.fit(**up.rand_search_.best_params_) "
   ]
  },
  {
   "cell_type": "code",
   "execution_count": 29,
   "metadata": {},
   "outputs": [
    {
     "data": {
      "text/plain": [
       "<matplotlib.axes._subplots.AxesSubplot at 0x1a2b127ba8>"
      ]
     },
     "execution_count": 29,
     "metadata": {},
     "output_type": "execute_result"
    },
    {
     "data": {
      "image/png": "[encoded data removed]",
      "text/plain": [
       "<Figure size 1080x720 with 1 Axes>"
      ]
     },
     "metadata": {
      "needs_background": "light"
     },
     "output_type": "display_data"
    }
   ],
   "source": [
    "up.plot(plot_type='cgains', show_practical_max=True, show_no_dogs=True) "
   ]
  },
  {
   "cell_type": "code",
   "execution_count": 30,
   "metadata": {},
   "outputs": [
    {
     "data": {
      "text/plain": [
       "<matplotlib.axes._subplots.AxesSubplot at 0x1a2e53ff98>"
      ]
     },
     "execution_count": 30,
     "metadata": {},
     "output_type": "execute_result"
    },
    {
     "data": {
      "image/png": "[encoded data removed]",
      "text/plain": [
       "<Figure size 1080x720 with 1 Axes>"
      ]
     },
     "metadata": {
      "needs_background": "light"
     },
     "output_type": "display_data"
    }
   ],
   "source": [
    "up.plot(plot_type='uplift', show_practical_max=True, show_no_dogs=True) "
   ]
  },
  {
   "cell_type": "code",
   "execution_count": 31,
   "metadata": {},
   "outputs": [
    {
     "data": {
      "text/plain": [
       "<matplotlib.axes._subplots.AxesSubplot at 0x1a2dbec908>"
      ]
     },
     "execution_count": 31,
     "metadata": {},
     "output_type": "execute_result"
    },
    {
     "data": {
      "image/png": "[encoded data removed]",
      "text/plain": [
       "<Figure size 1080x720 with 1 Axes>"
      ]
     },
     "metadata": {
      "needs_background": "light"
     },
     "output_type": "display_data"
    }
   ],
   "source": [
    "up.plot(plot_type='aqini', show_practical_max=True, show_no_dogs=True) "
   ]
  },
  {
   "cell_type": "markdown",
   "metadata": {},
   "source": [
    "# Use Qini curve for evaluate and select the best uplift model.\n",
    "Now it is time to implement the promotion campaign by only targeting those who are persuadable\n",
    "You need to feed the model with the whole population you are about to target\n",
    "This model can help you.predict the probability of each customer converting into purchase if shown promotion\n",
    "and then you can make the judgement call - to chose what percentage of customer you want to target considering your marketing budget "
   ]
  },
  {
   "cell_type": "code",
   "execution_count": 32,
   "metadata": {},
   "outputs": [
    {
     "data": {
      "text/html": [
       "<div>\n",
       "<style scoped>\n",
       "    .dataframe tbody tr th:only-of-type {\n",
       "        vertical-align: middle;\n",
       "    }\n",
       "\n",
       "    .dataframe tbody tr th {\n",
       "        vertical-align: top;\n",
       "    }\n",
       "\n",
       "    .dataframe thead th {\n",
       "        text-align: right;\n",
       "    }\n",
       "</style>\n",
       "<table border=\"1\" class=\"dataframe\">\n",
       "  <thead>\n",
       "    <tr style=\"text-align: right;\">\n",
       "      <th></th>\n",
       "      <th>V1</th>\n",
       "      <th>V2</th>\n",
       "      <th>V3</th>\n",
       "      <th>V4</th>\n",
       "      <th>V5</th>\n",
       "      <th>V6</th>\n",
       "      <th>V7</th>\n",
       "    </tr>\n",
       "  </thead>\n",
       "  <tbody>\n",
       "    <tr>\n",
       "      <th>0</th>\n",
       "      <td>2</td>\n",
       "      <td>30.443518</td>\n",
       "      <td>-1.165083</td>\n",
       "      <td>1</td>\n",
       "      <td>1</td>\n",
       "      <td>3</td>\n",
       "      <td>2</td>\n",
       "    </tr>\n",
       "    <tr>\n",
       "      <th>1</th>\n",
       "      <td>3</td>\n",
       "      <td>32.159350</td>\n",
       "      <td>-0.645617</td>\n",
       "      <td>2</td>\n",
       "      <td>3</td>\n",
       "      <td>2</td>\n",
       "      <td>2</td>\n",
       "    </tr>\n",
       "    <tr>\n",
       "      <th>2</th>\n",
       "      <td>2</td>\n",
       "      <td>30.431659</td>\n",
       "      <td>0.133583</td>\n",
       "      <td>1</td>\n",
       "      <td>1</td>\n",
       "      <td>4</td>\n",
       "      <td>2</td>\n",
       "    </tr>\n",
       "    <tr>\n",
       "      <th>3</th>\n",
       "      <td>0</td>\n",
       "      <td>26.588914</td>\n",
       "      <td>-0.212728</td>\n",
       "      <td>2</td>\n",
       "      <td>1</td>\n",
       "      <td>4</td>\n",
       "      <td>2</td>\n",
       "    </tr>\n",
       "    <tr>\n",
       "      <th>4</th>\n",
       "      <td>3</td>\n",
       "      <td>28.044332</td>\n",
       "      <td>-0.385883</td>\n",
       "      <td>1</td>\n",
       "      <td>1</td>\n",
       "      <td>2</td>\n",
       "      <td>2</td>\n",
       "    </tr>\n",
       "  </tbody>\n",
       "</table>\n",
       "</div>"
      ],
      "text/plain": [
       "   V1         V2        V3  V4  V5  V6  V7\n",
       "0   2  30.443518 -1.165083   1   1   3   2\n",
       "1   3  32.159350 -0.645617   2   3   2   2\n",
       "2   2  30.431659  0.133583   1   1   4   2\n",
       "3   0  26.588914 -0.212728   2   1   4   2\n",
       "4   3  28.044332 -0.385883   1   1   2   2"
      ]
     },
     "execution_count": 32,
     "metadata": {},
     "output_type": "execute_result"
    }
   ],
   "source": [
    "import copy\n",
    "newdf = copy.deepcopy(dfp)\n",
    "del newdf['ID']\n",
    "del newdf['Promotion']\n",
    "del newdf['purchase']\n",
    "newdf.head()"
   ]
  },
  {
   "cell_type": "code",
   "execution_count": 33,
   "metadata": {},
   "outputs": [],
   "source": [
    "result = pd.DataFrame(up.model.predict(newdf))"
   ]
  },
  {
   "cell_type": "code",
   "execution_count": 34,
   "metadata": {},
   "outputs": [
    {
     "data": {
      "text/html": [
       "<div>\n",
       "<style scoped>\n",
       "    .dataframe tbody tr th:only-of-type {\n",
       "        vertical-align: middle;\n",
       "    }\n",
       "\n",
       "    .dataframe tbody tr th {\n",
       "        vertical-align: top;\n",
       "    }\n",
       "\n",
       "    .dataframe thead th {\n",
       "        text-align: right;\n",
       "    }\n",
       "</style>\n",
       "<table border=\"1\" class=\"dataframe\">\n",
       "  <thead>\n",
       "    <tr style=\"text-align: right;\">\n",
       "      <th></th>\n",
       "      <th>0</th>\n",
       "    </tr>\n",
       "  </thead>\n",
       "  <tbody>\n",
       "    <tr>\n",
       "      <th>count</th>\n",
       "      <td>84534.000000</td>\n",
       "    </tr>\n",
       "    <tr>\n",
       "      <th>mean</th>\n",
       "      <td>0.009126</td>\n",
       "    </tr>\n",
       "    <tr>\n",
       "      <th>std</th>\n",
       "      <td>0.012019</td>\n",
       "    </tr>\n",
       "    <tr>\n",
       "      <th>min</th>\n",
       "      <td>-0.028330</td>\n",
       "    </tr>\n",
       "    <tr>\n",
       "      <th>25%</th>\n",
       "      <td>0.000650</td>\n",
       "    </tr>\n",
       "    <tr>\n",
       "      <th>50%</th>\n",
       "      <td>0.008666</td>\n",
       "    </tr>\n",
       "    <tr>\n",
       "      <th>75%</th>\n",
       "      <td>0.016873</td>\n",
       "    </tr>\n",
       "    <tr>\n",
       "      <th>max</th>\n",
       "      <td>0.060713</td>\n",
       "    </tr>\n",
       "  </tbody>\n",
       "</table>\n",
       "</div>"
      ],
      "text/plain": [
       "                  0\n",
       "count  84534.000000\n",
       "mean       0.009126\n",
       "std        0.012019\n",
       "min       -0.028330\n",
       "25%        0.000650\n",
       "50%        0.008666\n",
       "75%        0.016873\n",
       "max        0.060713"
      ]
     },
     "execution_count": 34,
     "metadata": {},
     "output_type": "execute_result"
    }
   ],
   "source": [
    "result.describe()"
   ]
  },
  {
   "cell_type": "code",
   "execution_count": 36,
   "metadata": {},
   "outputs": [
    {
     "data": {
      "text/html": [
       "<div>\n",
       "<style scoped>\n",
       "    .dataframe tbody tr th:only-of-type {\n",
       "        vertical-align: middle;\n",
       "    }\n",
       "\n",
       "    .dataframe tbody tr th {\n",
       "        vertical-align: top;\n",
       "    }\n",
       "\n",
       "    .dataframe thead th {\n",
       "        text-align: right;\n",
       "    }\n",
       "</style>\n",
       "<table border=\"1\" class=\"dataframe\">\n",
       "  <thead>\n",
       "    <tr style=\"text-align: right;\">\n",
       "      <th></th>\n",
       "      <th>0</th>\n",
       "    </tr>\n",
       "  </thead>\n",
       "  <tbody>\n",
       "    <tr>\n",
       "      <th>0.001</th>\n",
       "      <td>-0.021823</td>\n",
       "    </tr>\n",
       "    <tr>\n",
       "      <th>0.100</th>\n",
       "      <td>-0.006006</td>\n",
       "    </tr>\n",
       "    <tr>\n",
       "      <th>0.500</th>\n",
       "      <td>0.008666</td>\n",
       "    </tr>\n",
       "    <tr>\n",
       "      <th>0.950</th>\n",
       "      <td>0.029356</td>\n",
       "    </tr>\n",
       "  </tbody>\n",
       "</table>\n",
       "</div>"
      ],
      "text/plain": [
       "              0\n",
       "0.001 -0.021823\n",
       "0.100 -0.006006\n",
       "0.500  0.008666\n",
       "0.950  0.029356"
      ]
     },
     "execution_count": 36,
     "metadata": {},
     "output_type": "execute_result"
    }
   ],
   "source": [
    "result.quantile([.001, .10, .50, .95], axis = 0) "
   ]
  },
  {
   "cell_type": "code",
   "execution_count": 37,
   "metadata": {},
   "outputs": [
    {
     "data": {
      "text/html": [
       "<div>\n",
       "<style scoped>\n",
       "    .dataframe tbody tr th:only-of-type {\n",
       "        vertical-align: middle;\n",
       "    }\n",
       "\n",
       "    .dataframe tbody tr th {\n",
       "        vertical-align: top;\n",
       "    }\n",
       "\n",
       "    .dataframe thead th {\n",
       "        text-align: right;\n",
       "    }\n",
       "</style>\n",
       "<table border=\"1\" class=\"dataframe\">\n",
       "  <thead>\n",
       "    <tr style=\"text-align: right;\">\n",
       "      <th></th>\n",
       "      <th>0</th>\n",
       "    </tr>\n",
       "  </thead>\n",
       "  <tbody>\n",
       "    <tr>\n",
       "      <th>48980</th>\n",
       "      <td>0.060713</td>\n",
       "    </tr>\n",
       "    <tr>\n",
       "      <th>28819</th>\n",
       "      <td>0.059885</td>\n",
       "    </tr>\n",
       "    <tr>\n",
       "      <th>48365</th>\n",
       "      <td>0.059586</td>\n",
       "    </tr>\n",
       "    <tr>\n",
       "      <th>44147</th>\n",
       "      <td>0.058959</td>\n",
       "    </tr>\n",
       "    <tr>\n",
       "      <th>81420</th>\n",
       "      <td>0.058837</td>\n",
       "    </tr>\n",
       "    <tr>\n",
       "      <th>24152</th>\n",
       "      <td>0.058740</td>\n",
       "    </tr>\n",
       "    <tr>\n",
       "      <th>44489</th>\n",
       "      <td>0.058625</td>\n",
       "    </tr>\n",
       "    <tr>\n",
       "      <th>26627</th>\n",
       "      <td>0.058403</td>\n",
       "    </tr>\n",
       "    <tr>\n",
       "      <th>29148</th>\n",
       "      <td>0.058313</td>\n",
       "    </tr>\n",
       "    <tr>\n",
       "      <th>53703</th>\n",
       "      <td>0.057984</td>\n",
       "    </tr>\n",
       "    <tr>\n",
       "      <th>77224</th>\n",
       "      <td>0.057879</td>\n",
       "    </tr>\n",
       "    <tr>\n",
       "      <th>536</th>\n",
       "      <td>0.057610</td>\n",
       "    </tr>\n",
       "    <tr>\n",
       "      <th>70785</th>\n",
       "      <td>0.057451</td>\n",
       "    </tr>\n",
       "    <tr>\n",
       "      <th>65972</th>\n",
       "      <td>0.057388</td>\n",
       "    </tr>\n",
       "    <tr>\n",
       "      <th>80745</th>\n",
       "      <td>0.057195</td>\n",
       "    </tr>\n",
       "    <tr>\n",
       "      <th>20611</th>\n",
       "      <td>0.057195</td>\n",
       "    </tr>\n",
       "    <tr>\n",
       "      <th>60666</th>\n",
       "      <td>0.057168</td>\n",
       "    </tr>\n",
       "    <tr>\n",
       "      <th>65436</th>\n",
       "      <td>0.057168</td>\n",
       "    </tr>\n",
       "    <tr>\n",
       "      <th>41875</th>\n",
       "      <td>0.057168</td>\n",
       "    </tr>\n",
       "    <tr>\n",
       "      <th>47911</th>\n",
       "      <td>0.056870</td>\n",
       "    </tr>\n",
       "    <tr>\n",
       "      <th>29623</th>\n",
       "      <td>0.056864</td>\n",
       "    </tr>\n",
       "    <tr>\n",
       "      <th>23490</th>\n",
       "      <td>0.056419</td>\n",
       "    </tr>\n",
       "    <tr>\n",
       "      <th>11488</th>\n",
       "      <td>0.056244</td>\n",
       "    </tr>\n",
       "    <tr>\n",
       "      <th>23419</th>\n",
       "      <td>0.056227</td>\n",
       "    </tr>\n",
       "    <tr>\n",
       "      <th>36301</th>\n",
       "      <td>0.056225</td>\n",
       "    </tr>\n",
       "    <tr>\n",
       "      <th>9629</th>\n",
       "      <td>0.056225</td>\n",
       "    </tr>\n",
       "    <tr>\n",
       "      <th>54182</th>\n",
       "      <td>0.056225</td>\n",
       "    </tr>\n",
       "    <tr>\n",
       "      <th>48841</th>\n",
       "      <td>0.056119</td>\n",
       "    </tr>\n",
       "    <tr>\n",
       "      <th>23708</th>\n",
       "      <td>0.056119</td>\n",
       "    </tr>\n",
       "    <tr>\n",
       "      <th>22473</th>\n",
       "      <td>0.056119</td>\n",
       "    </tr>\n",
       "    <tr>\n",
       "      <th>...</th>\n",
       "      <td>...</td>\n",
       "    </tr>\n",
       "    <tr>\n",
       "      <th>43784</th>\n",
       "      <td>-0.024477</td>\n",
       "    </tr>\n",
       "    <tr>\n",
       "      <th>59205</th>\n",
       "      <td>-0.024540</td>\n",
       "    </tr>\n",
       "    <tr>\n",
       "      <th>35362</th>\n",
       "      <td>-0.024540</td>\n",
       "    </tr>\n",
       "    <tr>\n",
       "      <th>34576</th>\n",
       "      <td>-0.024570</td>\n",
       "    </tr>\n",
       "    <tr>\n",
       "      <th>59369</th>\n",
       "      <td>-0.024618</td>\n",
       "    </tr>\n",
       "    <tr>\n",
       "      <th>13722</th>\n",
       "      <td>-0.024618</td>\n",
       "    </tr>\n",
       "    <tr>\n",
       "      <th>1505</th>\n",
       "      <td>-0.024995</td>\n",
       "    </tr>\n",
       "    <tr>\n",
       "      <th>73328</th>\n",
       "      <td>-0.024995</td>\n",
       "    </tr>\n",
       "    <tr>\n",
       "      <th>41122</th>\n",
       "      <td>-0.025051</td>\n",
       "    </tr>\n",
       "    <tr>\n",
       "      <th>2724</th>\n",
       "      <td>-0.025056</td>\n",
       "    </tr>\n",
       "    <tr>\n",
       "      <th>64779</th>\n",
       "      <td>-0.025275</td>\n",
       "    </tr>\n",
       "    <tr>\n",
       "      <th>66581</th>\n",
       "      <td>-0.025325</td>\n",
       "    </tr>\n",
       "    <tr>\n",
       "      <th>20506</th>\n",
       "      <td>-0.025602</td>\n",
       "    </tr>\n",
       "    <tr>\n",
       "      <th>81395</th>\n",
       "      <td>-0.025611</td>\n",
       "    </tr>\n",
       "    <tr>\n",
       "      <th>14902</th>\n",
       "      <td>-0.025624</td>\n",
       "    </tr>\n",
       "    <tr>\n",
       "      <th>34181</th>\n",
       "      <td>-0.025753</td>\n",
       "    </tr>\n",
       "    <tr>\n",
       "      <th>47624</th>\n",
       "      <td>-0.025829</td>\n",
       "    </tr>\n",
       "    <tr>\n",
       "      <th>7877</th>\n",
       "      <td>-0.025829</td>\n",
       "    </tr>\n",
       "    <tr>\n",
       "      <th>50716</th>\n",
       "      <td>-0.025850</td>\n",
       "    </tr>\n",
       "    <tr>\n",
       "      <th>82150</th>\n",
       "      <td>-0.025925</td>\n",
       "    </tr>\n",
       "    <tr>\n",
       "      <th>75416</th>\n",
       "      <td>-0.026003</td>\n",
       "    </tr>\n",
       "    <tr>\n",
       "      <th>70102</th>\n",
       "      <td>-0.026494</td>\n",
       "    </tr>\n",
       "    <tr>\n",
       "      <th>41444</th>\n",
       "      <td>-0.026868</td>\n",
       "    </tr>\n",
       "    <tr>\n",
       "      <th>79910</th>\n",
       "      <td>-0.026868</td>\n",
       "    </tr>\n",
       "    <tr>\n",
       "      <th>49019</th>\n",
       "      <td>-0.026901</td>\n",
       "    </tr>\n",
       "    <tr>\n",
       "      <th>32791</th>\n",
       "      <td>-0.026901</td>\n",
       "    </tr>\n",
       "    <tr>\n",
       "      <th>81663</th>\n",
       "      <td>-0.026901</td>\n",
       "    </tr>\n",
       "    <tr>\n",
       "      <th>27974</th>\n",
       "      <td>-0.026901</td>\n",
       "    </tr>\n",
       "    <tr>\n",
       "      <th>3713</th>\n",
       "      <td>-0.028330</td>\n",
       "    </tr>\n",
       "    <tr>\n",
       "      <th>56312</th>\n",
       "      <td>-0.028330</td>\n",
       "    </tr>\n",
       "  </tbody>\n",
       "</table>\n",
       "<p>84534 rows × 1 columns</p>\n",
       "</div>"
      ],
      "text/plain": [
       "              0\n",
       "48980  0.060713\n",
       "28819  0.059885\n",
       "48365  0.059586\n",
       "44147  0.058959\n",
       "81420  0.058837\n",
       "24152  0.058740\n",
       "44489  0.058625\n",
       "26627  0.058403\n",
       "29148  0.058313\n",
       "53703  0.057984\n",
       "77224  0.057879\n",
       "536    0.057610\n",
       "70785  0.057451\n",
       "65972  0.057388\n",
       "80745  0.057195\n",
       "20611  0.057195\n",
       "60666  0.057168\n",
       "65436  0.057168\n",
       "41875  0.057168\n",
       "47911  0.056870\n",
       "29623  0.056864\n",
       "23490  0.056419\n",
       "11488  0.056244\n",
       "23419  0.056227\n",
       "36301  0.056225\n",
       "9629   0.056225\n",
       "54182  0.056225\n",
       "48841  0.056119\n",
       "23708  0.056119\n",
       "22473  0.056119\n",
       "...         ...\n",
       "43784 -0.024477\n",
       "59205 -0.024540\n",
       "35362 -0.024540\n",
       "34576 -0.024570\n",
       "59369 -0.024618\n",
       "13722 -0.024618\n",
       "1505  -0.024995\n",
       "73328 -0.024995\n",
       "41122 -0.025051\n",
       "2724  -0.025056\n",
       "64779 -0.025275\n",
       "66581 -0.025325\n",
       "20506 -0.025602\n",
       "81395 -0.025611\n",
       "14902 -0.025624\n",
       "34181 -0.025753\n",
       "47624 -0.025829\n",
       "7877  -0.025829\n",
       "50716 -0.025850\n",
       "82150 -0.025925\n",
       "75416 -0.026003\n",
       "70102 -0.026494\n",
       "41444 -0.026868\n",
       "79910 -0.026868\n",
       "49019 -0.026901\n",
       "32791 -0.026901\n",
       "81663 -0.026901\n",
       "27974 -0.026901\n",
       "3713  -0.028330\n",
       "56312 -0.028330\n",
       "\n",
       "[84534 rows x 1 columns]"
      ]
     },
     "execution_count": 37,
     "metadata": {},
     "output_type": "execute_result"
    }
   ],
   "source": [
    "# all the predicted uplift score, according to QINI Curve, you should target only the top 65% in this case \n",
    "#if you don't have budget constraint\n",
    "sufficient amount\n",
    "result.sort_values(by = 0, ascending = False)"
   ]
  },
  {
   "cell_type": "code",
   "execution_count": null,
   "metadata": {},
   "outputs": [],
   "source": []
  },
  {
   "cell_type": "code",
   "execution_count": null,
   "metadata": {},
   "outputs": [],
   "source": []
  }
 ],
 "metadata": {
  "kernelspec": {
   "display_name": "Python 3",
   "language": "python",
   "name": "python3"
  },
  "language_info": {
   "codemirror_mode": {
    "name": "ipython",
    "version": 3
   },
   "file_extension": ".py",
   "mimetype": "text/x-python",
   "name": "python",
   "nbconvert_exporter": "python",
   "pygments_lexer": "ipython3",
   "version": "3.7.3"
  }
 },
 "nbformat": 4,
 "nbformat_minor": 2
}
